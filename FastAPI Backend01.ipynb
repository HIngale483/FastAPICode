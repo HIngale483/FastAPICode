{
 "cells": [
  {
   "cell_type": "code",
   "execution_count": 1,
   "id": "c75eda7e-7470-4f96-96e1-81d332020e74",
   "metadata": {
    "scrolled": true
   },
   "outputs": [
    {
     "name": "stdout",
     "output_type": "stream",
     "text": [
      "Requirement already satisfied: fastapi in c:\\users\\hingale\\appdata\\roaming\\jupyterlab-desktop\\jlab_server\\lib\\site-packages (0.115.12)\n",
      "Requirement already satisfied: uvicorn in c:\\users\\hingale\\appdata\\roaming\\jupyterlab-desktop\\jlab_server\\lib\\site-packages (0.34.0)\n",
      "Requirement already satisfied: requests in c:\\users\\hingale\\appdata\\roaming\\jupyterlab-desktop\\jlab_server\\lib\\site-packages (2.32.3)\n",
      "Requirement already satisfied: starlette<0.47.0,>=0.40.0 in c:\\users\\hingale\\appdata\\roaming\\jupyterlab-desktop\\jlab_server\\lib\\site-packages (from fastapi) (0.46.1)\n",
      "Requirement already satisfied: pydantic!=1.8,!=1.8.1,!=2.0.0,!=2.0.1,!=2.1.0,<3.0.0,>=1.7.4 in c:\\users\\hingale\\appdata\\roaming\\jupyterlab-desktop\\jlab_server\\lib\\site-packages (from fastapi) (2.11.1)\n",
      "Requirement already satisfied: typing-extensions>=4.8.0 in c:\\users\\hingale\\appdata\\roaming\\jupyterlab-desktop\\jlab_server\\lib\\site-packages (from fastapi) (4.12.2)\n",
      "Requirement already satisfied: click>=7.0 in c:\\users\\hingale\\appdata\\roaming\\jupyterlab-desktop\\jlab_server\\lib\\site-packages (from uvicorn) (8.1.8)\n",
      "Requirement already satisfied: h11>=0.8 in c:\\users\\hingale\\appdata\\roaming\\jupyterlab-desktop\\jlab_server\\lib\\site-packages (from uvicorn) (0.14.0)\n",
      "Requirement already satisfied: charset-normalizer<4,>=2 in c:\\users\\hingale\\appdata\\roaming\\jupyterlab-desktop\\jlab_server\\lib\\site-packages (from requests) (3.3.2)\n",
      "Requirement already satisfied: idna<4,>=2.5 in c:\\users\\hingale\\appdata\\roaming\\jupyterlab-desktop\\jlab_server\\lib\\site-packages (from requests) (3.8)\n",
      "Requirement already satisfied: urllib3<3,>=1.21.1 in c:\\users\\hingale\\appdata\\roaming\\jupyterlab-desktop\\jlab_server\\lib\\site-packages (from requests) (2.2.2)\n",
      "Requirement already satisfied: certifi>=2017.4.17 in c:\\users\\hingale\\appdata\\roaming\\jupyterlab-desktop\\jlab_server\\lib\\site-packages (from requests) (2024.7.4)\n",
      "Requirement already satisfied: colorama in c:\\users\\hingale\\appdata\\roaming\\jupyterlab-desktop\\jlab_server\\lib\\site-packages (from click>=7.0->uvicorn) (0.4.6)\n",
      "Requirement already satisfied: annotated-types>=0.6.0 in c:\\users\\hingale\\appdata\\roaming\\jupyterlab-desktop\\jlab_server\\lib\\site-packages (from pydantic!=1.8,!=1.8.1,!=2.0.0,!=2.0.1,!=2.1.0,<3.0.0,>=1.7.4->fastapi) (0.7.0)\n",
      "Requirement already satisfied: pydantic-core==2.33.0 in c:\\users\\hingale\\appdata\\roaming\\jupyterlab-desktop\\jlab_server\\lib\\site-packages (from pydantic!=1.8,!=1.8.1,!=2.0.0,!=2.0.1,!=2.1.0,<3.0.0,>=1.7.4->fastapi) (2.33.0)\n",
      "Requirement already satisfied: typing-inspection>=0.4.0 in c:\\users\\hingale\\appdata\\roaming\\jupyterlab-desktop\\jlab_server\\lib\\site-packages (from pydantic!=1.8,!=1.8.1,!=2.0.0,!=2.0.1,!=2.1.0,<3.0.0,>=1.7.4->fastapi) (0.4.0)\n",
      "Requirement already satisfied: anyio<5,>=3.6.2 in c:\\users\\hingale\\appdata\\roaming\\jupyterlab-desktop\\jlab_server\\lib\\site-packages (from starlette<0.47.0,>=0.40.0->fastapi) (4.4.0)\n",
      "Requirement already satisfied: sniffio>=1.1 in c:\\users\\hingale\\appdata\\roaming\\jupyterlab-desktop\\jlab_server\\lib\\site-packages (from anyio<5,>=3.6.2->starlette<0.47.0,>=0.40.0->fastapi) (1.3.1)\n"
     ]
    }
   ],
   "source": [
    "!pip install fastapi uvicorn requests"
   ]
  },
  {
   "cell_type": "code",
   "execution_count": 14,
   "id": "fff33493-c44b-431b-8a6a-5d7aa17ffe33",
   "metadata": {
    "scrolled": true
   },
   "outputs": [
    {
     "name": "stderr",
     "output_type": "stream",
     "text": [
      "INFO:     Started server process [18932]\n",
      "INFO:     Waiting for application startup.\n",
      "INFO:     Application startup complete.\n",
      "INFO:     Uvicorn running on http://127.0.0.1:8003 (Press CTRL+C to quit)\n"
     ]
    },
    {
     "name": "stdout",
     "output_type": "stream",
     "text": [
      "Response from OpenAI API: {'choices': [{'content_filter_results': {'hate': {'filtered': False, 'severity': 'safe'}, 'protected_material_code': {'filtered': False, 'detected': False}, 'protected_material_text': {'filtered': False, 'detected': False}, 'self_harm': {'filtered': False, 'severity': 'safe'}, 'sexual': {'filtered': False, 'severity': 'safe'}, 'violence': {'filtered': False, 'severity': 'safe'}}, 'finish_reason': 'stop', 'index': 0, 'logprobs': None, 'message': {'content': \"Hello! I'm here to help you. How can I assist you today?\", 'role': 'assistant'}}], 'created': 1743655971, 'id': 'chatcmpl-BI6rLxDYydCdRt9FTOYDMPkmyxLw3', 'model': 'gpt-4-turbo-2024-04-09', 'object': 'chat.completion', 'prompt_filter_results': [{'prompt_index': 0, 'content_filter_results': {'hate': {'filtered': False, 'severity': 'safe'}, 'jailbreak': {'filtered': False, 'detected': False}, 'self_harm': {'filtered': False, 'severity': 'safe'}, 'sexual': {'filtered': False, 'severity': 'safe'}, 'violence': {'filtered': False, 'severity': 'safe'}}}], 'system_fingerprint': 'fp_5603ee5e2e', 'usage': {'completion_tokens': 16, 'prompt_tokens': 13, 'total_tokens': 29}}\n",
      "INFO:     127.0.0.1:55441 - \"POST /chat/ HTTP/1.1\" 200 OK\n",
      "Response from OpenAI API: {'choices': [{'content_filter_results': {'hate': {'filtered': False, 'severity': 'safe'}, 'protected_material_code': {'filtered': False, 'detected': False}, 'protected_material_text': {'filtered': False, 'detected': False}, 'self_harm': {'filtered': False, 'severity': 'safe'}, 'sexual': {'filtered': False, 'severity': 'safe'}, 'violence': {'filtered': False, 'severity': 'safe'}}, 'finish_reason': 'stop', 'index': 0, 'logprobs': None, 'message': {'content': 'The capital of France is Paris.', 'role': 'assistant'}}], 'created': 1743656052, 'id': 'chatcmpl-BI6seROPXdCS1JJnOLwNJ05rn2JAl', 'model': 'gpt-4-turbo-2024-04-09', 'object': 'chat.completion', 'prompt_filter_results': [{'prompt_index': 0, 'content_filter_results': {'hate': {'filtered': False, 'severity': 'safe'}, 'jailbreak': {'filtered': False, 'detected': False}, 'self_harm': {'filtered': False, 'severity': 'safe'}, 'sexual': {'filtered': False, 'severity': 'safe'}, 'violence': {'filtered': False, 'severity': 'safe'}}}], 'system_fingerprint': 'fp_5603ee5e2e', 'usage': {'completion_tokens': 7, 'prompt_tokens': 14, 'total_tokens': 21}}\n",
      "INFO:     127.0.0.1:55487 - \"POST /chat/ HTTP/1.1\" 200 OK\n",
      "INFO:     127.0.0.1:55559 - \"GET / HTTP/1.1\" 404 Not Found\n",
      "INFO:     127.0.0.1:55559 - \"GET /favicon.ico HTTP/1.1\" 404 Not Found\n",
      "INFO:     127.0.0.1:55560 - \"GET /chat/ HTTP/1.1\" 405 Method Not Allowed\n"
     ]
    }
   ],
   "source": [
    "from fastapi import FastAPI\n",
    "from pydantic import BaseModel\n",
    "import requests\n",
    "import json\n",
    "import uvicorn\n",
    "import threading\n",
    "\n",
    "# FastAPI app initialization\n",
    "app = FastAPI()\n",
    "\n",
    "# Set your Azure OpenAI API key and endpoint\n",
    "api_key = \"2REOt9aAX9oB5DvGFPDY9apS4sFbHXkf677fzBzD5hdEQfFdAgfWJQQJ99BDACYeBjFXJ3w3AAABACOGWaX0\"\n",
    "endpoint = \"https://mychatbotservice2025.openai.azure.com/\"\n",
    "model = \"gpt-4\"\n",
    "api_version = \"2025-01-01-preview\"  # Example API version, change as necessary\n",
    "\n",
    "def query_openai(prompt: str):\n",
    "    url = f\"{endpoint}/openai/deployments/{model}/chat/completions?api-version={api_version}\"\n",
    "    headers = {\n",
    "        \"Content-Type\": \"application/json\",\n",
    "        \"Authorization\": f\"Bearer {api_key}\"\n",
    "    }\n",
    "\n",
    "    # Chat-style request payload for GPT-4\n",
    "    data = {\n",
    "        \"messages\": [{\"role\": \"user\", \"content\": prompt}],\n",
    "        \"max_tokens\": 150\n",
    "    }\n",
    "\n",
    "    # Make API request to Azure OpenAI\n",
    "    response = requests.post(url, headers=headers, data=json.dumps(data))\n",
    "\n",
    "    # Check for errors in the response\n",
    "    if response.status_code != 200:\n",
    "        return {\"error\": f\"Failed to get response from OpenAI API. Status code: {response.status_code}\"}\n",
    "\n",
    "    # Print the full response to understand its structure\n",
    "    print(\"Response from OpenAI API:\", response.json())\n",
    "\n",
    "    return response.json()\n",
    "\n",
    "# Pydantic model to handle incoming data\n",
    "class ChatRequest(BaseModel):\n",
    "    prompt: str\n",
    "\n",
    "# FastAPI route to handle chat requests\n",
    "@app.post(\"/chat/\")\n",
    "async def chat(request: ChatRequest):\n",
    "    prompt = request.prompt\n",
    "    openai_response = query_openai(prompt)\n",
    "\n",
    "    # Return OpenAI's response or error message\n",
    "    if 'error' in openai_response:\n",
    "        return {\"error\": openai_response['error']}\n",
    "    \n",
    "    return {\"response\": openai_response['choices'][0]['message']['content']}\n",
    "\n",
    "# Function to run the Uvicorn server\n",
    "def run_uvicorn():\n",
    "    uvicorn.run(app, host=\"127.0.0.1\", port=8003)  # Use port 8002 if 8001 is unavailable\n",
    "\n",
    "# Start Uvicorn server in a new thread\n",
    "thread = threading.Thread(target=run_uvicorn)\n",
    "thread.start()"
   ]
  },
  {
   "cell_type": "code",
   "execution_count": 16,
   "id": "cf8117f1-50b6-4d04-b358-d8ed7fdb2a23",
   "metadata": {
    "scrolled": true
   },
   "outputs": [
    {
     "name": "stdout",
     "output_type": "stream",
     "text": [
      "{'response': 'The capital of France is Paris.'}\n"
     ]
    }
   ],
   "source": [
    "import requests\n",
    "\n",
    "# Test the FastAPI chat API on a different port (8002)\n",
    "url = \"http://127.0.0.1:8003/chat/\"\n",
    "# data = {\"prompt\": \"Hello, how are you?\"}\n",
    "data = {\"prompt\": \"What is the capital of France?\"}\n",
    "\n",
    "response = requests.post(url, json=data)\n",
    "\n",
    "# Check if the response is valid and can be decoded as JSON\n",
    "try:\n",
    "    response_json = response.json()\n",
    "    print(response_json)\n",
    "except ValueError:\n",
    "    print(f\"Failed to decode JSON. Response text: {response.text}\")\n"
   ]
  },
  {
   "cell_type": "code",
   "execution_count": null,
   "id": "1afe934f-ac1e-49a2-b533-e17de7394f72",
   "metadata": {},
   "outputs": [],
   "source": []
  }
 ],
 "metadata": {
  "kernelspec": {
   "display_name": "Python 3 (ipykernel)",
   "language": "python",
   "name": "python3"
  },
  "language_info": {
   "codemirror_mode": {
    "name": "ipython",
    "version": 3
   },
   "file_extension": ".py",
   "mimetype": "text/x-python",
   "name": "python",
   "nbconvert_exporter": "python",
   "pygments_lexer": "ipython3",
   "version": "3.12.5"
  }
 },
 "nbformat": 4,
 "nbformat_minor": 5
}
