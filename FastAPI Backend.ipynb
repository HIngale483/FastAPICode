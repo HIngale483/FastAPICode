{
 "cells": [
  {
   "cell_type": "code",
   "execution_count": 1,
   "id": "c75eda7e-7470-4f96-96e1-81d332020e74",
   "metadata": {},
   "outputs": [
    {
     "name": "stdout",
     "output_type": "stream",
     "text": [
      "Requirement already satisfied: fastapi in c:\\users\\hingale\\appdata\\roaming\\jupyterlab-desktop\\jlab_server\\lib\\site-packages (0.115.12)\n",
      "Requirement already satisfied: uvicorn in c:\\users\\hingale\\appdata\\roaming\\jupyterlab-desktop\\jlab_server\\lib\\site-packages (0.34.0)\n",
      "Requirement already satisfied: requests in c:\\users\\hingale\\appdata\\roaming\\jupyterlab-desktop\\jlab_server\\lib\\site-packages (2.32.3)\n",
      "Requirement already satisfied: starlette<0.47.0,>=0.40.0 in c:\\users\\hingale\\appdata\\roaming\\jupyterlab-desktop\\jlab_server\\lib\\site-packages (from fastapi) (0.46.1)\n",
      "Requirement already satisfied: pydantic!=1.8,!=1.8.1,!=2.0.0,!=2.0.1,!=2.1.0,<3.0.0,>=1.7.4 in c:\\users\\hingale\\appdata\\roaming\\jupyterlab-desktop\\jlab_server\\lib\\site-packages (from fastapi) (2.11.1)\n",
      "Requirement already satisfied: typing-extensions>=4.8.0 in c:\\users\\hingale\\appdata\\roaming\\jupyterlab-desktop\\jlab_server\\lib\\site-packages (from fastapi) (4.12.2)\n",
      "Requirement already satisfied: click>=7.0 in c:\\users\\hingale\\appdata\\roaming\\jupyterlab-desktop\\jlab_server\\lib\\site-packages (from uvicorn) (8.1.8)\n",
      "Requirement already satisfied: h11>=0.8 in c:\\users\\hingale\\appdata\\roaming\\jupyterlab-desktop\\jlab_server\\lib\\site-packages (from uvicorn) (0.14.0)\n",
      "Requirement already satisfied: charset-normalizer<4,>=2 in c:\\users\\hingale\\appdata\\roaming\\jupyterlab-desktop\\jlab_server\\lib\\site-packages (from requests) (3.3.2)\n",
      "Requirement already satisfied: idna<4,>=2.5 in c:\\users\\hingale\\appdata\\roaming\\jupyterlab-desktop\\jlab_server\\lib\\site-packages (from requests) (3.8)\n",
      "Requirement already satisfied: urllib3<3,>=1.21.1 in c:\\users\\hingale\\appdata\\roaming\\jupyterlab-desktop\\jlab_server\\lib\\site-packages (from requests) (2.2.2)\n",
      "Requirement already satisfied: certifi>=2017.4.17 in c:\\users\\hingale\\appdata\\roaming\\jupyterlab-desktop\\jlab_server\\lib\\site-packages (from requests) (2024.7.4)\n",
      "Requirement already satisfied: colorama in c:\\users\\hingale\\appdata\\roaming\\jupyterlab-desktop\\jlab_server\\lib\\site-packages (from click>=7.0->uvicorn) (0.4.6)\n",
      "Requirement already satisfied: annotated-types>=0.6.0 in c:\\users\\hingale\\appdata\\roaming\\jupyterlab-desktop\\jlab_server\\lib\\site-packages (from pydantic!=1.8,!=1.8.1,!=2.0.0,!=2.0.1,!=2.1.0,<3.0.0,>=1.7.4->fastapi) (0.7.0)\n",
      "Requirement already satisfied: pydantic-core==2.33.0 in c:\\users\\hingale\\appdata\\roaming\\jupyterlab-desktop\\jlab_server\\lib\\site-packages (from pydantic!=1.8,!=1.8.1,!=2.0.0,!=2.0.1,!=2.1.0,<3.0.0,>=1.7.4->fastapi) (2.33.0)\n",
      "Requirement already satisfied: typing-inspection>=0.4.0 in c:\\users\\hingale\\appdata\\roaming\\jupyterlab-desktop\\jlab_server\\lib\\site-packages (from pydantic!=1.8,!=1.8.1,!=2.0.0,!=2.0.1,!=2.1.0,<3.0.0,>=1.7.4->fastapi) (0.4.0)\n",
      "Requirement already satisfied: anyio<5,>=3.6.2 in c:\\users\\hingale\\appdata\\roaming\\jupyterlab-desktop\\jlab_server\\lib\\site-packages (from starlette<0.47.0,>=0.40.0->fastapi) (4.4.0)\n",
      "Requirement already satisfied: sniffio>=1.1 in c:\\users\\hingale\\appdata\\roaming\\jupyterlab-desktop\\jlab_server\\lib\\site-packages (from anyio<5,>=3.6.2->starlette<0.47.0,>=0.40.0->fastapi) (1.3.1)\n"
     ]
    }
   ],
   "source": [
    "!pip install fastapi uvicorn requests"
   ]
  },
  {
   "cell_type": "code",
   "execution_count": 2,
   "id": "fff33493-c44b-431b-8a6a-5d7aa17ffe33",
   "metadata": {},
   "outputs": [],
   "source": [
    "from fastapi import FastAPI\n",
    "from pydantic import BaseModel\n",
    "import requests\n",
    "import json\n",
    "\n",
    "app = FastAPI()\n",
    "\n",
    "# Define the request model\n",
    "class ChatRequest(BaseModel):\n",
    "    prompt: str\n",
    "\n",
    "# Set your Azure OpenAI API key and endpoint\n",
    "api_key = \"2REOt9aAX9oB5DvGFPDY9apS4sFbHXkf677fzBzD5hdEQfFdAgfWJQQJ99BDACYeBjFXJ3w3AAABACOGWaX0\"\n",
    "endpoint = \"https://mychatbotservice2025.openai.azure.com/\"\n",
    "model = \"gpt-4\"\n",
    "\n",
    "# Function to call the Azure OpenAI API\n",
    "def query_openai(prompt: str):\n",
    "    url = f\"{endpoint}/openai/deployments/{model}/completions?api-version=2023-03-15-preview\"\n",
    "    \n",
    "    headers = {\n",
    "        \"Content-Type\": \"application/json\",\n",
    "        \"Authorization\": f\"Bearer {api_key}\"\n",
    "    }\n",
    "    \n",
    "    data = {\n",
    "        \"prompt\": prompt,\n",
    "        \"max_tokens\": 50\n",
    "    }\n",
    "    \n",
    "    response = requests.post(url, headers=headers, data=json.dumps(data))\n",
    "    return response.json()\n",
    "\n",
    "# Define the chatbot endpoint\n",
    "@app.post(\"/chat/\")\n",
    "async def chat(request: ChatRequest):\n",
    "    response = query_openai(request.prompt)\n",
    "    return {\"response\": response['choices'][0]['text']}\n"
   ]
  },
  {
   "cell_type": "code",
   "execution_count": null,
   "id": "85897bce-35d4-4001-8da5-bf8cba5f8b47",
   "metadata": {},
   "outputs": [],
   "source": []
  }
 ],
 "metadata": {
  "kernelspec": {
   "display_name": "Python 3 (ipykernel)",
   "language": "python",
   "name": "python3"
  },
  "language_info": {
   "codemirror_mode": {
    "name": "ipython",
    "version": 3
   },
   "file_extension": ".py",
   "mimetype": "text/x-python",
   "name": "python",
   "nbconvert_exporter": "python",
   "pygments_lexer": "ipython3",
   "version": "3.12.5"
  }
 },
 "nbformat": 4,
 "nbformat_minor": 5
}
